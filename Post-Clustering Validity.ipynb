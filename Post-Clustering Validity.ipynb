{
 "cells": [
  {
   "attachments": {
    "flowchart.png": {
     "image/png": "[encoded data removed]"
    }
   },
   "cell_type": "markdown",
   "metadata": {},
   "source": [
    "## Post-Clustering Validity\n",
    "Once we perform clustering, we need to verify that we obtained the correct number of clusters.\n",
    "In this project, we explored Partition Coefficient, Classification Entropy and CS indices as validation methods.\n",
    "When we perform fuzzy-c-means, we obtain a membership matrix, U. This matrix contains the probabilities of each data point belonging to each cluster. \n",
    "![flowchart.png](attachment:flowchart.png)\n",
    "We developed 2 to 10 clusters with fuzzy-c-means then applied these three techniques to see what number of clusters is the most suitable one. "
   ]
  },
  {
   "cell_type": "markdown",
   "metadata": {},
   "source": [
    "For pre-clustering assessment, we will use the following vat() and ivat() functions which can be found in pyclustertend library."
   ]
  },
  {
   "cell_type": "code",
   "execution_count": 1,
   "metadata": {},
   "outputs": [],
   "source": [
    "\n",
    "import numpy as np\n",
    "from sklearn.metrics import pairwise_distances\n",
    "import matplotlib.pyplot as plt\n",
    "\n",
    "def vat(data, return_odm=False, figure_size=(10, 10)):\n",
    "    \"\"\"VAT means Visual assesement of tendency. basically, it allow to asses cluster tendency\n",
    "    through a map based on the dissimiliraty matrix.\n",
    "\n",
    "\n",
    "    Parameters\n",
    "    ----------\n",
    "\n",
    "    data : matrix\n",
    "        numpy array\n",
    "\n",
    "    return_odm : return the Ordered Dissimalirity Matrix\n",
    "        boolean (default to False)\n",
    "\n",
    "    figure_size : size of the VAT.\n",
    "        tuple (default to (10,10))\n",
    "\n",
    "\n",
    "    Return\n",
    "    -------\n",
    "\n",
    "    ODM : matrix\n",
    "        the ordered dissimalarity matrix plotted.\n",
    "\n",
    "    \"\"\"\n",
    "\n",
    "    ordered_dissimilarity_matrix = compute_ordered_dissimilarity_matrix(data)\n",
    "\n",
    "    _, ax = plt.subplots(figsize=figure_size)\n",
    "    ax.imshow(ordered_dissimilarity_matrix, cmap='gray', vmin=0, vmax=np.max(ordered_dissimilarity_matrix))\n",
    "\n",
    "    if return_odm is True:\n",
    "        return ordered_dissimilarity_matrix\n",
    "\n",
    "\n",
    "\n",
    "def compute_ordered_dissimilarity_matrix(X):\n",
    "    \"\"\"The ordered dissimilarity matrix is used by visual assesement of tendency. It is a just a a reordering\n",
    "    of the dissimilarity matrix.\n",
    "\n",
    "\n",
    "    Parameters\n",
    "    ----------\n",
    "\n",
    "    X : matrix\n",
    "        numpy array\n",
    "\n",
    "    Return\n",
    "    -------\n",
    "\n",
    "    ODM : matrix\n",
    "        the ordered dissimalarity matrix .\n",
    "\n",
    "    \"\"\"\n",
    "\n",
    "    # Step 1 :\n",
    "\n",
    "    observation_path = []\n",
    "\n",
    "    matrix_of_pairwise_distance = pairwise_distances(X)\n",
    "    list_of_int = np.zeros(matrix_of_pairwise_distance.shape[0], dtype=\"int\")\n",
    "\n",
    "    index_of_maximum_value = np.argmax(matrix_of_pairwise_distance)\n",
    "\n",
    "    column_index_of_maximum_value = index_of_maximum_value // matrix_of_pairwise_distance.shape[1]\n",
    "\n",
    "    list_of_int[0] = column_index_of_maximum_value\n",
    "    observation_path.append(column_index_of_maximum_value)\n",
    "\n",
    "    K = np.linspace(0, matrix_of_pairwise_distance.shape[0] - 1, matrix_of_pairwise_distance.shape[0], dtype=\"int\")\n",
    "    J = np.delete(K, column_index_of_maximum_value)\n",
    "\n",
    "    # Step 2 :\n",
    "\n",
    "    for r in range(1, matrix_of_pairwise_distance.shape[0]):\n",
    "\n",
    "        p, q = (-1, -1)\n",
    "\n",
    "        mini = np.max(matrix_of_pairwise_distance)\n",
    "\n",
    "        for candidate_p in observation_path:\n",
    "            for candidate_j in J:\n",
    "                if matrix_of_pairwise_distance[candidate_p, candidate_j] < mini:\n",
    "                    p = candidate_p\n",
    "                    q = candidate_j\n",
    "                    mini = matrix_of_pairwise_distance[p, q]\n",
    "\n",
    "        list_of_int[r] = q\n",
    "        observation_path.append(q)\n",
    "\n",
    "        ind_q = np.where(np.array(J) == q)[0][0]\n",
    "        J = np.delete(J, ind_q)\n",
    "\n",
    "    # Step 3\n",
    "\n",
    "    ordered_matrix = np.zeros(matrix_of_pairwise_distance.shape)\n",
    "\n",
    "    for column_index_of_maximum_value in range(ordered_matrix.shape[0]):\n",
    "        for j in range(ordered_matrix.shape[1]):\n",
    "            ordered_matrix[column_index_of_maximum_value, j] = matrix_of_pairwise_distance[\n",
    "                list_of_int[column_index_of_maximum_value], list_of_int[j]]\n",
    "\n",
    "    # Step 4 :\n",
    "\n",
    "    return ordered_matrix\n",
    "\n",
    "\n",
    "\n",
    "\n",
    "def ivat(data, return_odm=False, figure_size=(10, 10)):\n",
    "    \"\"\"iVat return a visualisation based on the Vat but more reliable and easier to\n",
    "    interpret.\n",
    "\n",
    "\n",
    "    Parameters\n",
    "    ----------\n",
    "\n",
    "    data : matrix\n",
    "        numpy array\n",
    "\n",
    "    return_odm : return the Ordered Dissimalirity Matrix\n",
    "            boolean (default to False)\n",
    "\n",
    "    figure_size : size of the VAT.\n",
    "        tuple (default to (10,10))\n",
    "\n",
    "\n",
    "    Return\n",
    "    -------\n",
    "\n",
    "    D_prim : matrix\n",
    "        the ivat ordered dissimalarity matrix.\n",
    "\n",
    "    \"\"\"\n",
    "\n",
    "    ordered_matrix = compute_ivat_ordered_dissimilarity_matrix(data)\n",
    "\n",
    "    _, ax = plt.subplots(figsize=figure_size)\n",
    "    ax.imshow(ordered_matrix, cmap='gray', vmin=0, vmax=np.max(ordered_matrix))\n",
    "\n",
    "    if return_odm is True:\n",
    "        return ordered_matrix\n",
    "\n",
    "\n",
    "\n",
    "\n",
    "def compute_ivat_ordered_dissimilarity_matrix(X):\n",
    "    \"\"\"The ordered dissimilarity matrix is used by ivat. It is a just a a reordering\n",
    "    of the dissimilarity matrix.\n",
    "\n",
    "\n",
    "    Parameters\n",
    "    ----------\n",
    "\n",
    "    X : matrix\n",
    "        numpy array\n",
    "\n",
    "    Return\n",
    "    -------\n",
    "\n",
    "    D_prim : matrix\n",
    "        the ordered dissimalarity matrix .\n",
    "\n",
    "    \"\"\"\n",
    "\n",
    "    ordered_matrix = compute_ordered_dissimilarity_matrix(X)\n",
    "    re_ordered_matrix = np.zeros((ordered_matrix.shape[0], ordered_matrix.shape[0]))\n",
    "\n",
    "    for r in range(1, ordered_matrix.shape[0]):\n",
    "        # Step 1 : find j for which D[r,j] is minimum and j in [1:r-1]\n",
    "\n",
    "        j = np.argmin(ordered_matrix[r, 0:r])\n",
    "\n",
    "        # Step 2 :\n",
    "\n",
    "        re_ordered_matrix[r, j] = ordered_matrix[r, j]\n",
    "\n",
    "        # Step 3 : pour c : 1,r-1 avec c !=j\n",
    "        c_tab = np.array(range(0, r))\n",
    "        c_tab = c_tab[c_tab != j]\n",
    "\n",
    "        for c in c_tab:\n",
    "            re_ordered_matrix[r, c] = max(ordered_matrix[r, j], re_ordered_matrix[j, c])\n",
    "            re_ordered_matrix[c, r] = re_ordered_matrix[r, c]\n",
    "\n",
    "    return re_ordered_matrix\n"
   ]
  },
  {
   "cell_type": "code",
   "execution_count": 2,
   "metadata": {},
   "outputs": [
    {
     "name": "stderr",
     "output_type": "stream",
     "text": [
      "C:\\Users\\h\\anaconda3\\lib\\site-packages\\pandas\\core\\computation\\expressions.py:20: UserWarning: Pandas requires version '2.7.3' or newer of 'numexpr' (version '2.7.1' currently installed).\n",
      "  from pandas.core.computation.check import NUMEXPR_INSTALLED\n"
     ]
    }
   ],
   "source": [
    "#import necessary libraries:\n",
    "import glob\n",
    "import pandas as pd\n",
    "import numpy as np\n",
    "import skimage.io\n",
    "import matplotlib.pyplot as plt\n",
    "import warnings\n",
    "warnings.filterwarnings(\"ignore\")\n",
    "from fcmeans import FCM\n",
    "# absolute path to search all PMG files inside a specific folder\n",
    "path = r'*.PGM'\n",
    "files = glob.glob(path)"
   ]
  },
  {
   "cell_type": "code",
   "execution_count": 3,
   "metadata": {},
   "outputs": [
    {
     "data": {
      "text/plain": [
       "['4cov.PGM',\n",
       " 'No_Clust.PGM',\n",
       " 'No_Clust_nois_pt_01.PGM',\n",
       " 'Three_Close_Clust.PGM',\n",
       " 'Three_Close_Clust_nois_pt005.PGM',\n",
       " 'Two_Clus_Diff_Density.PGM',\n",
       " 'Two_Clus_Diff_Size.PGM',\n",
       " 'Two_Ellip_Diff_Density.PGM',\n",
       " 'Two_Ellip_Diff_Size.PGM',\n",
       " 'Two_Separat_Clust.PGM',\n",
       " 'Two_Separat_Clust_nois_pt005.PGM']"
      ]
     },
     "execution_count": 3,
     "metadata": {},
     "output_type": "execute_result"
    }
   ],
   "source": [
    "files"
   ]
  },
  {
   "cell_type": "code",
   "execution_count": 4,
   "metadata": {},
   "outputs": [
    {
     "data": {
      "text/plain": [
       "<matplotlib.image.AxesImage at 0x1a6c3248070>"
      ]
     },
     "execution_count": 4,
     "metadata": {},
     "output_type": "execute_result"
    },
    {
     "data": {
      "image/png": "[encoded data removed]",
      "text/plain": [
       "<Figure size 432x288 with 1 Axes>"
      ]
     },
     "metadata": {
      "needs_background": "light"
     },
     "output_type": "display_data"
    }
   ],
   "source": [
    "#Show one of the images\n",
    "skimage.io.imshow(\"Two_Clus_Diff_Density.PGM\", cmap='gray')"
   ]
  },
  {
   "cell_type": "markdown",
   "metadata": {},
   "source": [
    "The image has black dots on a white background. Black dots are going to be investigated by the algorithm, so, we need to create an array where black dots have the value of 1 and white pixels have the value of 0 as they are irrelevant. Then, we will apply ivat() function to the obtained array."
   ]
  },
  {
   "cell_type": "markdown",
   "metadata": {},
   "source": [
    "The fuzzy algorithm requires data points' locations. The following function detects the data points' coordinates in the image (dataset) and returns them as an array."
   ]
  },
  {
   "cell_type": "code",
   "execution_count": 5,
   "metadata": {},
   "outputs": [],
   "source": [
    "def extract_points(im):\n",
    "    \n",
    "    X = []\n",
    "\n",
    "    for i in range(len(im)):\n",
    "        for j in range(len(im[i])):\n",
    "            if im[i][j]==1:\n",
    "                X.append([j,i])\n",
    "    return np.array(X)\n",
    "    "
   ]
  },
  {
   "cell_type": "markdown",
   "metadata": {},
   "source": [
    "The following function applies fuzzy c means algorithm to the data points and returns the membership matrix, cluster centers' locations, and cluster labels for each data point."
   ]
  },
  {
   "cell_type": "code",
   "execution_count": 6,
   "metadata": {},
   "outputs": [],
   "source": [
    "def apply_fcm(X):\n",
    "    mem_mat = []\n",
    "    clus_centers = []\n",
    "    clus_labels = []\n",
    "    for n_clusters in range(2, 11):\n",
    "        my_model = FCM(n_clusters=n_clusters) \n",
    "        my_model.fit(X) \n",
    "        u = my_model.u\n",
    "        centers = my_model.centers\n",
    "        labels = my_model.predict(X)\n",
    "        mem_mat.append(u)\n",
    "        clus_centers.append(centers)\n",
    "        clus_labels.append(labels)\n",
    "    return mem_mat, clus_centers, clus_labels\n",
    "       "
   ]
  },
  {
   "cell_type": "markdown",
   "metadata": {},
   "source": [
    "The following function finds the distance between two points."
   ]
  },
  {
   "cell_type": "code",
   "execution_count": 7,
   "metadata": {},
   "outputs": [],
   "source": [
    "def distance(data, center):\n",
    "    return np.sqrt((data[0]-center[0])**2+(data[1]-center[1])**2)"
   ]
  },
  {
   "cell_type": "markdown",
   "metadata": {},
   "source": [
    "### Partition Coefficient:\n",
    "The following function takes in a membership matrix, takes the square of it, adds up the values and divide it by the number of data points."
   ]
  },
  {
   "cell_type": "code",
   "execution_count": 8,
   "metadata": {},
   "outputs": [],
   "source": [
    "def pc(mem_mat):\n",
    "    n, c = mem_mat.shape\n",
    "    return np.square(mem_mat).sum()/n"
   ]
  },
  {
   "cell_type": "markdown",
   "metadata": {},
   "source": [
    "### Classification Entropy:\n",
    "The following function takes in a membership matrix, multiplies it with its log, adds all values up and divides this number by the number of data points."
   ]
  },
  {
   "cell_type": "code",
   "execution_count": 9,
   "metadata": {},
   "outputs": [],
   "source": [
    "def ce(u):\n",
    "    n, c = u.shape\n",
    "    return abs((np.log10(u)*u).sum()/n)"
   ]
  },
  {
   "cell_type": "markdown",
   "metadata": {},
   "source": [
    "### CS Indices:\n",
    "The following function takes in data points' locations, cluster centers, and each data point's labels.\n",
    "For each cluster, calculates the distance between each data point (x_i) and the rest of the data points in that cluster (x_R), gets the maximum value, does this for all data points in that cluster and gets the final maximum distance of the cluster.\n",
    "It performs this for all clusters and adds the results up. Divides this number by the number of data points in each cluster and adds the results up. Finally, it divides this by the number of clusters (C). This is the numerator of the formula.\n",
    "For each cluster, finds the distance between that cluster center and all the other clusters centers, gets the minimum distance.\n",
    "Does this for all clusters and adds them up and divides this number by the number of clusters (C). This is the denominator of the formula.\n",
    "For all cluster cases, the function divides numerator by the denominator. \n"
   ]
  },
  {
   "cell_type": "code",
   "execution_count": 10,
   "metadata": {},
   "outputs": [],
   "source": [
    "def cs(X, centers, labels):\n",
    "    #Create dictionary to hold all CS indices for different number of clusters\n",
    "    cs_per_clust = {}\n",
    "    #Iterate over cluster numbers 2 to 10\n",
    "    for clust_num in range(2,11):\n",
    "        #Create dictionary to hold data points belonging to each cluster\n",
    "        save_points = {}\n",
    "        #Get the label corresponding to the current cluster number\n",
    "        label = labels[clust_num-2]\n",
    "        #Get the cluster centers corresponding to the current cluster number\n",
    "        center = centers[clust_num-2]\n",
    "        #Initialize the dictionary with keys corresponding to the number of clusters\n",
    "        for i in range(np.max(label)+1):\n",
    "            save_points[i] = []\n",
    "        #Save data points belonging to each cluster in save_points\n",
    "        for i in range(len(X)):\n",
    "            save_points[label[i]].append(X[i])\n",
    "        \n",
    "        #Save max distance of each cluster in max_dist_clust\n",
    "        max_dist_clust = []\n",
    "\n",
    "        #For each cluster find the maximum distance between the points\n",
    "        for i in range(clust_num):\n",
    "            #Create a list to hold all max distances btw points in each cluster \n",
    "            save_dist_all_data = []\n",
    "            #Get current cluster's data points\n",
    "            cluster_points = save_points[i]\n",
    "            #Calculate the distances btw data points in the current cluster\n",
    "            for j in range(len(cluster_points)):\n",
    "                current_data_distance = []\n",
    "                for k in range(len(cluster_points)):\n",
    "                    if j != k:\n",
    "                        current_data_distance.append(distance(cluster_points[j], cluster_points[k]))\n",
    "                    \n",
    "                save_dist_all_data.append(np.max(current_data_distance))\n",
    "            \n",
    "            max_dist_clust.append(np.max(save_dist_all_data))\n",
    "        #Add all clusters' maximum distances up    \n",
    "        sum_dist_clusters = np.sum(max_dist_clust)\n",
    "        \n",
    "        sum_a = 0\n",
    "        for a in range(clust_num):\n",
    "            sum_a = sum_a + (1/len(save_points[a]))*sum_dist_clusters\n",
    "        numerator = sum_a/clust_num\n",
    "\n",
    "        #Calculate distances between cluster centers:\n",
    "        #Create a list to hold distances btw clusters\n",
    "        distance_btw_clusters = []\n",
    "        #For each cluster calculate it's distance to all others and save it in find_dist\n",
    "        for j in range(clust_num):\n",
    "            find_dist = []\n",
    "            for i in range(clust_num):\n",
    "                if i != j:\n",
    "                    find_dist.append(distance(center[j], center[i]))\n",
    "                    \n",
    "            #For each cluster, save it's distance to the closest cluster \n",
    "            distance_btw_clusters.append(np.min(find_dist))\n",
    "        #Add closest distance of all clusters and divide it by the number of clusters\n",
    "        denominator = np.sum(distance_btw_clusters)/clust_num\n",
    "        #For each cluster number (c), save cs index which is numerator/denominator \n",
    "        cs_per_clust[clust_num] = numerator/denominator\n",
    "    return cs_per_clust"
   ]
  },
  {
   "cell_type": "markdown",
   "metadata": {},
   "source": [
    "### Image 1:"
   ]
  },
  {
   "cell_type": "code",
   "execution_count": 11,
   "metadata": {},
   "outputs": [
    {
     "data": {
      "text/plain": [
       "<matplotlib.image.AxesImage at 0x1a6c330ac40>"
      ]
     },
     "execution_count": 11,
     "metadata": {},
     "output_type": "execute_result"
    },
    {
     "data": {
      "image/png": "[encoded data removed]",
      "text/plain": [
       "<Figure size 432x288 with 2 Axes>"
      ]
     },
     "metadata": {
      "needs_background": "light"
     },
     "output_type": "display_data"
    }
   ],
   "source": [
    "im1 = skimage.io.imread(files[0])\n",
    "im1 = np.where(im1==255, 0, 1)\n",
    "skimage.io.imshow(im1, cmap='gray')\n"
   ]
  },
  {
   "cell_type": "code",
   "execution_count": 12,
   "metadata": {},
   "outputs": [
    {
     "data": {
      "image/png": "[encoded data removed]",
      "text/plain": [
       "<Figure size 720x720 with 1 Axes>"
      ]
     },
     "metadata": {
      "needs_background": "light"
     },
     "output_type": "display_data"
    }
   ],
   "source": [
    "ivat(im1)"
   ]
  },
  {
   "cell_type": "markdown",
   "metadata": {},
   "source": [
    "In the image, all data points look like one big cluster. So, the map shows one dominant black square. However, we can also see the 4 groups in the map represented by the squares a little bigger than the black square. The colors start fading after the first 4 squares."
   ]
  },
  {
   "cell_type": "code",
   "execution_count": 13,
   "metadata": {},
   "outputs": [],
   "source": [
    "#Extract the coordinates of the data points \n",
    "X = extract_points(im1)"
   ]
  },
  {
   "cell_type": "code",
   "execution_count": 14,
   "metadata": {},
   "outputs": [
    {
     "name": "stdout",
     "output_type": "stream",
     "text": [
      "Membership matrix for two clusters:\n"
     ]
    },
    {
     "data": {
      "text/plain": [
       "array([[0.11925866, 0.88074134],\n",
       "       [0.11699707, 0.88300293],\n",
       "       [0.11287314, 0.88712686],\n",
       "       ...,\n",
       "       [0.90842159, 0.09157841],\n",
       "       [0.88244139, 0.11755861],\n",
       "       [0.87398087, 0.12601913]])"
      ]
     },
     "execution_count": 14,
     "metadata": {},
     "output_type": "execute_result"
    }
   ],
   "source": [
    "#Apply fuzzy-c-means and get the membership matrix, centers of clusters and labels of each data point\n",
    "u, centers, labels = apply_fcm(X)\n",
    "print(\"Membership matrix for two clusters:\")\n",
    "u[0]"
   ]
  },
  {
   "cell_type": "code",
   "execution_count": 15,
   "metadata": {},
   "outputs": [
    {
     "name": "stdout",
     "output_type": "stream",
     "text": [
      "Partition Coefficient\n",
      "Partition coefficient with 2 number of clusters is: 0.7829213431779348\n",
      "Partition coefficient with 3 number of clusters is: 0.7610397855115253\n",
      "Partition coefficient with 4 number of clusters is: 0.7459137322794018\n",
      "Partition coefficient with 5 number of clusters is: 0.715924199347179\n",
      "Partition coefficient with 6 number of clusters is: 0.6661780229137693\n",
      "Partition coefficient with 7 number of clusters is: 0.6391674472789495\n",
      "Partition coefficient with 8 number of clusters is: 0.6150108453997531\n",
      "Partition coefficient with 9 number of clusters is: 0.5986615011228452\n",
      "Partition coefficient with 10 number of clusters is: 0.5757720387637478\n",
      "Best number of clusters is 2\n"
     ]
    }
   ],
   "source": [
    "print(\"Partition Coefficient\")\n",
    "pc_values = []\n",
    "for i in range(2,11):\n",
    "    print(f\"Partition coefficient with {i} number of clusters is: {pc(u[i-2])}\")\n",
    "    pc_values.append(pc(u[i-2]))\n",
    "    \n",
    "#The best cluster is the one that gives the highest PC.\n",
    "index = pc_values.index([np.max(pc_values)])\n",
    "print(\"Best number of clusters is {}\".format(index+2))"
   ]
  },
  {
   "cell_type": "code",
   "execution_count": 16,
   "metadata": {},
   "outputs": [
    {
     "name": "stdout",
     "output_type": "stream",
     "text": [
      "Classification Entropy:\n",
      "Partition coefficient with 2 number of clusters is: 0.15143238736213438\n",
      "Partition coefficient with 3 number of clusters is: 0.19197762232826715\n",
      "Partition coefficient with 4 number of clusters is: 0.22268736656298277\n",
      "Partition coefficient with 5 number of clusters is: 0.25786236710216737\n",
      "Partition coefficient with 6 number of clusters is: 0.30761493410168633\n",
      "Partition coefficient with 7 number of clusters is: 0.33438747008703046\n",
      "Partition coefficient with 8 number of clusters is: 0.3642349282596056\n",
      "Partition coefficient with 9 number of clusters is: 0.38364749924981045\n",
      "Partition coefficient with 10 number of clusters is: 0.4120049456234042\n",
      "Best number of clusters is 2\n"
     ]
    }
   ],
   "source": [
    "print(\"Classification Entropy:\")\n",
    "ce_values = []\n",
    "for i in range(2,11):\n",
    "    print(f\"Partition coefficient with {i} number of clusters is: {ce(u[i-2])}\")\n",
    "    ce_values.append(ce(u[i-2]))\n",
    "#The best cluster is the one that gives the lowest CE\n",
    "index = ce_values.index([np.min(ce_values)])\n",
    "print(\"Best number of clusters is {}\".format(index+2))"
   ]
  },
  {
   "cell_type": "code",
   "execution_count": 17,
   "metadata": {},
   "outputs": [
    {
     "name": "stdout",
     "output_type": "stream",
     "text": [
      "CS indices:\n",
      "Partition coefficient with 2 number of clusters is: 0.002559817352729796\n",
      "Partition coefficient with 3 number of clusters is: 0.0057702639358877825\n",
      "Partition coefficient with 4 number of clusters is: 0.011231936437931416\n",
      "Partition coefficient with 5 number of clusters is: 0.018152125828395756\n",
      "Partition coefficient with 6 number of clusters is: 0.02795519427000447\n",
      "Partition coefficient with 7 number of clusters is: 0.03830954885996866\n",
      "Partition coefficient with 8 number of clusters is: 0.05446930949945212\n",
      "Partition coefficient with 9 number of clusters is: 0.07393311419333186\n",
      "Partition coefficient with 10 number of clusters is: 0.09476945489524218\n",
      "Best number of clusters is 2\n"
     ]
    }
   ],
   "source": [
    "cs_per_clust = cs(X, centers, labels)\n",
    "print(\"CS indices:\")\n",
    "for key,value in cs_per_clust.items():\n",
    "    print(f\"Partition coefficient with {key} number of clusters is: {value}\")\n",
    "#The best cluster is the one that gives the lowest CS indices.\n",
    "print(f\"Best number of clusters is {min(cs_per_clust, key=cs_per_clust.get)}\")"
   ]
  },
  {
   "cell_type": "markdown",
   "metadata": {},
   "source": [
    "With all three techniques, the most suitable number of clusters for this dataset is 2."
   ]
  },
  {
   "cell_type": "markdown",
   "metadata": {},
   "source": [
    "### Image 2:"
   ]
  },
  {
   "cell_type": "code",
   "execution_count": 18,
   "metadata": {},
   "outputs": [
    {
     "data": {
      "text/plain": [
       "<matplotlib.image.AxesImage at 0x1a6c33ce0a0>"
      ]
     },
     "execution_count": 18,
     "metadata": {},
     "output_type": "execute_result"
    },
    {
     "data": {
      "image/png": "[encoded data removed]",
      "text/plain": [
       "<Figure size 432x288 with 2 Axes>"
      ]
     },
     "metadata": {
      "needs_background": "light"
     },
     "output_type": "display_data"
    }
   ],
   "source": [
    "im2 = skimage.io.imread(files[3])\n",
    "im2 = np.where(im2==255, 0, 1)\n",
    "skimage.io.imshow(im2, cmap='gray')"
   ]
  },
  {
   "cell_type": "code",
   "execution_count": 19,
   "metadata": {},
   "outputs": [
    {
     "data": {
      "image/png": "[encoded data removed]",
      "text/plain": [
       "<Figure size 720x720 with 1 Axes>"
      ]
     },
     "metadata": {
      "needs_background": "light"
     },
     "output_type": "display_data"
    }
   ],
   "source": [
    "ivat(im2)"
   ]
  },
  {
   "cell_type": "code",
   "execution_count": 20,
   "metadata": {},
   "outputs": [],
   "source": [
    "X = extract_points(im2)"
   ]
  },
  {
   "cell_type": "code",
   "execution_count": 21,
   "metadata": {},
   "outputs": [
    {
     "name": "stdout",
     "output_type": "stream",
     "text": [
      "Membership matrix for two clusters:\n",
      "[[0.14291198 0.85708802]\n",
      " [0.10840284 0.89159716]\n",
      " [0.10470202 0.89529798]\n",
      " ...\n",
      " [0.92384003 0.07615997]\n",
      " [0.91595531 0.08404469]\n",
      " [0.88680061 0.11319939]]\n"
     ]
    }
   ],
   "source": [
    "#Apply fuzzy-c-means and get the membership matrix, centers of clusters and labels of each data point\n",
    "u, centers, labels = apply_fcm(X)\n",
    "print(\"Membership matrix for two clusters:\")\n",
    "print(u[0])\n"
   ]
  },
  {
   "cell_type": "code",
   "execution_count": 22,
   "metadata": {},
   "outputs": [
    {
     "name": "stdout",
     "output_type": "stream",
     "text": [
      "Partition Coefficient\n",
      "Partition coefficient with 2 number of clusters is: 0.8775784124235708\n",
      "Partition coefficient with 3 number of clusters is: 0.8003521079332812\n",
      "Partition coefficient with 4 number of clusters is: 0.6802673893552661\n",
      "Partition coefficient with 5 number of clusters is: 0.6366528926291771\n",
      "Partition coefficient with 6 number of clusters is: 0.5881913495943119\n",
      "Partition coefficient with 7 number of clusters is: 0.547638804468625\n",
      "Partition coefficient with 8 number of clusters is: 0.5091762021968024\n",
      "Partition coefficient with 9 number of clusters is: 0.4993363270108796\n",
      "Partition coefficient with 10 number of clusters is: 0.48208732040577157\n",
      "Best number of clusters is 2\n"
     ]
    }
   ],
   "source": [
    "print(\"Partition Coefficient\")\n",
    "pc_values = []\n",
    "for i in range(2,11):\n",
    "    print(f\"Partition coefficient with {i} number of clusters is: {pc(u[i-2])}\")\n",
    "    pc_values.append(pc(u[i-2]))\n",
    "    \n",
    "#The best cluster is the one that gives the highest PC.\n",
    "index = pc_values.index([np.max(pc_values)])\n",
    "print(\"Best number of clusters is {}\".format(index+2))"
   ]
  },
  {
   "cell_type": "code",
   "execution_count": 23,
   "metadata": {},
   "outputs": [
    {
     "name": "stdout",
     "output_type": "stream",
     "text": [
      "Classification Entropy:\n",
      "Partition coefficient with 2 number of clusters is: 0.0968776132308489\n",
      "Partition coefficient with 3 number of clusters is: 0.16525287947714498\n",
      "Partition coefficient with 4 number of clusters is: 0.25641421074354503\n",
      "Partition coefficient with 5 number of clusters is: 0.31178231486867763\n",
      "Partition coefficient with 6 number of clusters is: 0.3562969566019172\n",
      "Partition coefficient with 7 number of clusters is: 0.4055766247070043\n",
      "Partition coefficient with 8 number of clusters is: 0.4461512618905103\n",
      "Partition coefficient with 9 number of clusters is: 0.4651757248268044\n",
      "Partition coefficient with 10 number of clusters is: 0.4936369070508748\n",
      "Best number of clusters is 2\n"
     ]
    }
   ],
   "source": [
    "print(\"Classification Entropy:\")\n",
    "ce_values = []\n",
    "for i in range(2,11):\n",
    "    print(f\"Partition coefficient with {i} number of clusters is: {ce(u[i-2])}\")\n",
    "    ce_values.append(ce(u[i-2]))\n",
    "#The best cluster is the one that gives the lowest CE\n",
    "index = ce_values.index([np.min(ce_values)])\n",
    "print(\"Best number of clusters is {}\".format(index+2))"
   ]
  },
  {
   "cell_type": "code",
   "execution_count": 24,
   "metadata": {},
   "outputs": [
    {
     "name": "stdout",
     "output_type": "stream",
     "text": [
      "CS indices:\n",
      "Partition coefficient with 2 number of clusters is: 0.005463723651417979\n",
      "Partition coefficient with 3 number of clusters is: 0.021871455499510133\n",
      "Partition coefficient with 4 number of clusters is: 0.04560332364912049\n",
      "Partition coefficient with 5 number of clusters is: 0.06401416267979214\n",
      "Partition coefficient with 6 number of clusters is: 0.12354260440774087\n",
      "Partition coefficient with 7 number of clusters is: 0.14216155015457707\n",
      "Partition coefficient with 8 number of clusters is: 0.22700976077361296\n",
      "Partition coefficient with 9 number of clusters is: 0.27025452758398905\n",
      "Partition coefficient with 10 number of clusters is: 0.31244056537937986\n",
      "Best number of clusters is 2\n"
     ]
    }
   ],
   "source": [
    "cs_per_clust = cs(X, centers, labels)\n",
    "print(\"CS indices:\")\n",
    "for key,value in cs_per_clust.items():\n",
    "    print(f\"Partition coefficient with {key} number of clusters is: {value}\")\n",
    "#The best cluster is the one that gives the lowest CS indices.\n",
    "print(f\"Best number of clusters is {min(cs_per_clust, key=cs_per_clust.get)}\")"
   ]
  },
  {
   "cell_type": "markdown",
   "metadata": {},
   "source": [
    "### Image 3:"
   ]
  },
  {
   "cell_type": "code",
   "execution_count": 25,
   "metadata": {},
   "outputs": [
    {
     "data": {
      "text/plain": [
       "<matplotlib.image.AxesImage at 0x1a6c34fe910>"
      ]
     },
     "execution_count": 25,
     "metadata": {},
     "output_type": "execute_result"
    },
    {
     "data": {
      "image/png": "[encoded data removed]",
      "text/plain": [
       "<Figure size 432x288 with 2 Axes>"
      ]
     },
     "metadata": {
      "needs_background": "light"
     },
     "output_type": "display_data"
    }
   ],
   "source": [
    "im3 = skimage.io.imread(files[4])\n",
    "im3 = np.where(im3==255, 0, 1)\n",
    "skimage.io.imshow(im3, cmap='gray')"
   ]
  },
  {
   "cell_type": "code",
   "execution_count": 26,
   "metadata": {},
   "outputs": [
    {
     "data": {
      "image/png": "[encoded data removed]",
      "text/plain": [
       "<Figure size 720x720 with 1 Axes>"
      ]
     },
     "metadata": {
      "needs_background": "light"
     },
     "output_type": "display_data"
    }
   ],
   "source": [
    "ivat(im3)"
   ]
  },
  {
   "cell_type": "markdown",
   "metadata": {},
   "source": [
    "Spread out data is reflected by many squares in the map. Only three prominent ones represent the three clusters."
   ]
  },
  {
   "cell_type": "code",
   "execution_count": 27,
   "metadata": {},
   "outputs": [
    {
     "name": "stdout",
     "output_type": "stream",
     "text": [
      "Membership matrix for two clusters:\n"
     ]
    },
    {
     "data": {
      "text/plain": [
       "array([[0.17480181, 0.82519819],\n",
       "       [0.47878543, 0.52121457],\n",
       "       [0.49440573, 0.50559427],\n",
       "       ...,\n",
       "       [0.79518445, 0.20481555],\n",
       "       [0.75357914, 0.24642086],\n",
       "       [0.73741886, 0.26258114]])"
      ]
     },
     "execution_count": 27,
     "metadata": {},
     "output_type": "execute_result"
    }
   ],
   "source": [
    "X = extract_points(im3)\n",
    "#Apply fuzzy-c-means and get the membership matrix, centers of clusters and labels of each data point\n",
    "u, centers, labels = apply_fcm(X)\n",
    "print(\"Membership matrix for two clusters:\")\n",
    "u[0]\n"
   ]
  },
  {
   "cell_type": "code",
   "execution_count": 28,
   "metadata": {},
   "outputs": [
    {
     "name": "stdout",
     "output_type": "stream",
     "text": [
      "Partition Coefficient\n",
      "Partition coefficient with 2 number of clusters is: 0.8165266622800326\n",
      "Partition coefficient with 3 number of clusters is: 0.6377678288636499\n",
      "Partition coefficient with 4 number of clusters is: 0.6029892331293414\n",
      "Partition coefficient with 5 number of clusters is: 0.5545594525044711\n",
      "Partition coefficient with 6 number of clusters is: 0.5540494995038353\n",
      "Partition coefficient with 7 number of clusters is: 0.5167728055639441\n",
      "Partition coefficient with 8 number of clusters is: 0.5219375253680102\n",
      "Partition coefficient with 9 number of clusters is: 0.4980444665177765\n",
      "Partition coefficient with 10 number of clusters is: 0.45946226449335337\n",
      "Best number of clusters is 2\n"
     ]
    }
   ],
   "source": [
    "print(\"Partition Coefficient\")\n",
    "pc_values = []\n",
    "for i in range(2,11):\n",
    "    print(f\"Partition coefficient with {i} number of clusters is: {pc(u[i-2])}\")\n",
    "    pc_values.append(pc(u[i-2]))\n",
    "    \n",
    "#The best cluster is the one that gives the highest PC.\n",
    "index = pc_values.index([np.max(pc_values)])\n",
    "print(\"Best number of clusters is {}\".format(index+2))"
   ]
  },
  {
   "cell_type": "code",
   "execution_count": 29,
   "metadata": {},
   "outputs": [
    {
     "name": "stdout",
     "output_type": "stream",
     "text": [
      "Classification Entropy:\n",
      "Partition coefficient with 2 number of clusters is: 0.13293440654452818\n",
      "Partition coefficient with 3 number of clusters is: 0.2716269676459675\n",
      "Partition coefficient with 4 number of clusters is: 0.3204011710173644\n",
      "Partition coefficient with 5 number of clusters is: 0.38346102966969475\n",
      "Partition coefficient with 6 number of clusters is: 0.40114139910198676\n",
      "Partition coefficient with 7 number of clusters is: 0.4441729069128522\n",
      "Partition coefficient with 8 number of clusters is: 0.4501323494328908\n",
      "Partition coefficient with 9 number of clusters is: 0.4853854160784649\n",
      "Partition coefficient with 10 number of clusters is: 0.5289477242029681\n",
      "Best number of clusters is 2\n"
     ]
    }
   ],
   "source": [
    "print(\"Classification Entropy:\")\n",
    "ce_values = []\n",
    "for i in range(2,11):\n",
    "    print(f\"Partition coefficient with {i} number of clusters is: {ce(u[i-2])}\")\n",
    "    ce_values.append(ce(u[i-2]))\n",
    "#The best cluster is the one that gives the lowest CE\n",
    "index = ce_values.index([np.min(ce_values)])\n",
    "print(\"Best number of clusters is {}\".format(index+2))"
   ]
  },
  {
   "cell_type": "code",
   "execution_count": 30,
   "metadata": {},
   "outputs": [
    {
     "name": "stdout",
     "output_type": "stream",
     "text": [
      "CS indices:\n",
      "Partition coefficient with 2 number of clusters is: 0.009624478224371513\n",
      "Partition coefficient with 3 number of clusters is: 0.026489327595159564\n",
      "Partition coefficient with 4 number of clusters is: 0.0622089900101838\n",
      "Partition coefficient with 5 number of clusters is: 0.07999400197894234\n",
      "Partition coefficient with 6 number of clusters is: 0.09515359900329307\n",
      "Partition coefficient with 7 number of clusters is: 0.14011145465381455\n",
      "Partition coefficient with 8 number of clusters is: 0.16348044068913561\n",
      "Partition coefficient with 9 number of clusters is: 0.19919451996693144\n",
      "Partition coefficient with 10 number of clusters is: 0.25331889308841204\n",
      "Best number of clusters is 2\n"
     ]
    }
   ],
   "source": [
    "cs_per_clust = cs(X, centers, labels)\n",
    "print(\"CS indices:\")\n",
    "for key,value in cs_per_clust.items():\n",
    "    print(f\"Partition coefficient with {key} number of clusters is: {value}\")\n",
    "#The best cluster is the one that gives the lowest CS indices.\n",
    "print(f\"Best number of clusters is {min(cs_per_clust, key=cs_per_clust.get)}\")"
   ]
  },
  {
   "cell_type": "markdown",
   "metadata": {},
   "source": [
    "## Conclusion:"
   ]
  },
  {
   "cell_type": "markdown",
   "metadata": {},
   "source": [
    "In all datasets, the three techniques suggested the same thing; 2 clusters are the best ones. This may be due to the fact that the clusters are not compact. Especially in the third image there is a lot of noise. In my opinion, in the second image if the clusters were a little more tightly packed, we might have gotten three clusters. \n",
    "2 cluster results align with ivat results as in all ivat maps we see one black square surrounded by a dark gray square."
   ]
  }
 ],
 "metadata": {
  "kernelspec": {
   "display_name": "Python 3",
   "language": "python",
   "name": "python3"
  },
  "language_info": {
   "codemirror_mode": {
    "name": "ipython",
    "version": 3
   },
   "file_extension": ".py",
   "mimetype": "text/x-python",
   "name": "python",
   "nbconvert_exporter": "python",
   "pygments_lexer": "ipython3",
   "version": "3.8.3"
  }
 },
 "nbformat": 4,
 "nbformat_minor": 4
}
